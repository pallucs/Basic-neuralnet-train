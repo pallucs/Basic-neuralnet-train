{
  "nbformat": 4,
  "nbformat_minor": 0,
  "metadata": {
    "colab": {
      "name": "Basic-neural-net.ipynb",
      "provenance": [],
      "authorship_tag": "ABX9TyOgKWLVjmSVgbiZLZcH3Ju2",
      "include_colab_link": true
    },
    "kernelspec": {
      "name": "python3",
      "display_name": "Python 3"
    },
    "language_info": {
      "name": "python"
    }
  },
  "cells": [
    {
      "cell_type": "markdown",
      "metadata": {
        "id": "view-in-github",
        "colab_type": "text"
      },
      "source": [
        "<a href=\"https://colab.research.google.com/github/pallucs/Basic-neuralnet-train/blob/main/Basic_neural_net.ipynb\" target=\"_parent\"><img src=\"https://colab.research.google.com/assets/colab-badge.svg\" alt=\"Open In Colab\"/></a>"
      ]
    },
    {
      "cell_type": "code",
      "execution_count": 1,
      "metadata": {
        "id": "Ne4kdZ6ixtm1"
      },
      "outputs": [],
      "source": [
        "import numpy as np\n",
        "import pandas as pd"
      ]
    },
    {
      "cell_type": "code",
      "source": [
        "rg = np.random.default_rng()\n",
        "\n",
        "#Create random data and values for calculation\n",
        "\n",
        "def generate_data(n_features,n_values):\n",
        "  features = rg.random((n_features,n_values))\n",
        "  weights = rg.random((1,n_values))[0]\n",
        "  targets = np.random.choice([0,1], n_features)\n",
        "  data = pd.DataFrame(features, columns=['x0', 'x1', 'x2'])\n",
        "  data['targets'] = targets\n",
        "  return data, weights"
      ],
      "metadata": {
        "id": "1ln99IAcz3S3"
      },
      "execution_count": 2,
      "outputs": []
    },
    {
      "cell_type": "code",
      "source": [
        "#calculate the weighted sum\n",
        "\n",
        "bias = 0.5\n",
        "l_rate = 0.01\n",
        "epochs = 30\n",
        "epoch_loss = []\n",
        "\n",
        "\n",
        "data, weights = generate_data(50,3)\n",
        "\n",
        "def train_model(data, weights, bias, l_rate, epochs):\n",
        "  for e in range(epochs):\n",
        "    individual_loss = []\n",
        "\n",
        "    for i in range(len(data)):\n",
        "      feature = data.loc[i][:-1].to_numpy()\n",
        "      target = data.loc[i][-1]\n",
        "      w_sum =  generate_weighted_sum(feature, weights, bias)\n",
        "      prediction = sigmoid(w_sum)\n",
        "      loss = cross_entropy_loss(target, prediction)\n",
        "      individual_loss.append(loss)\n",
        "      #GRADIENT DESCENT\n",
        "\n",
        "      weights = update_weights(weights, l_rate, target, prediction, feature)\n",
        "      bias = update_bias(bias, l_rate, target, prediction)\n",
        "\n",
        "    average_loss = sum(individual_loss)/ len(individual_loss)\n",
        "    epoch_loss.append(average_loss)\n",
        "    print('************************')\n",
        "    print('epoch', e)\n",
        "    print(average_loss)\n",
        "\n",
        "\n",
        "def generate_weighted_sum(feature, weights, bias):\n",
        "  return np.dot(feature, weights) + bias\n",
        "\n",
        "def sigmoid(w_sum):\n",
        "  return 1/(1+np.exp(-w_sum))\n",
        "\n",
        "def cross_entropy_loss(target, prediction):\n",
        "  return -(target * np.log10(prediction) + (1-target) * np.log10(1-prediction))\n",
        "\n",
        "def update_weights(weights, l_rate, target, prediction, feature):\n",
        "  new_weights = []\n",
        "  for x,w in zip(feature, weights):\n",
        "    new_w = w + l_rate*(target-prediction)*x\n",
        "    new_weights.append(new_w)\n",
        "  return new_weights\n",
        "\n",
        "def update_bias(bias, l_rate, target, prediction):\n",
        "  return bias + l_rate*(target - prediction)\n",
        "\n",
        "train_model(data, weights, bias, l_rate, epochs)\n",
        "\n",
        "#PLOT THE AVERAGE LOSS CURVE\n",
        "\n",
        "df = pd.DataFrame(epoch_loss)\n",
        "df_plot = df.plot(kind='line', grid=True).get_figure()\n",
        "df_plot.savefig('Training_Loss.pdf')\n",
        "\n"
      ],
      "metadata": {
        "colab": {
          "base_uri": "https://localhost:8080/",
          "height": 1000
        },
        "id": "di2Kuk934sPp",
        "outputId": "4c3cac30-418c-408a-98e0-814f1d2a4af0"
      },
      "execution_count": 3,
      "outputs": [
        {
          "output_type": "stream",
          "name": "stdout",
          "text": [
            "************************\n",
            "epoch 0\n",
            "0.5054591004332524\n",
            "************************\n",
            "epoch 1\n",
            "0.4294038318570631\n",
            "************************\n",
            "epoch 2\n",
            "0.37597196873917105\n",
            "************************\n",
            "epoch 3\n",
            "0.3408510713769083\n",
            "************************\n",
            "epoch 4\n",
            "0.31881494010436706\n",
            "************************\n",
            "epoch 5\n",
            "0.3053542349510807\n",
            "************************\n",
            "epoch 6\n",
            "0.29722786244321475\n",
            "************************\n",
            "epoch 7\n",
            "0.2923300768425986\n",
            "************************\n",
            "epoch 8\n",
            "0.28936310373045343\n",
            "************************\n",
            "epoch 9\n",
            "0.2875468185997606\n",
            "************************\n",
            "epoch 10\n",
            "0.2864167925765924\n",
            "************************\n",
            "epoch 11\n",
            "0.28569706266869555\n",
            "************************\n",
            "epoch 12\n",
            "0.2852233754988221\n",
            "************************\n",
            "epoch 13\n",
            "0.2848976777981335\n",
            "************************\n",
            "epoch 14\n",
            "0.2846612597672797\n",
            "************************\n",
            "epoch 15\n",
            "0.2844788847729615\n",
            "************************\n",
            "epoch 16\n",
            "0.28432937418070625\n",
            "************************\n",
            "epoch 17\n",
            "0.2841999953726028\n",
            "************************\n",
            "epoch 18\n",
            "0.28408310146766647\n",
            "************************\n",
            "epoch 19\n",
            "0.28397411145123475\n",
            "************************\n",
            "epoch 20\n",
            "0.2838702923685825\n",
            "************************\n",
            "epoch 21\n",
            "0.28377002361286935\n",
            "************************\n",
            "epoch 22\n",
            "0.2836723520379982\n",
            "************************\n",
            "epoch 23\n",
            "0.2835767229862228\n",
            "************************\n",
            "epoch 24\n",
            "0.2834828179082837\n",
            "************************\n",
            "epoch 25\n",
            "0.2833904566200854\n",
            "************************\n",
            "epoch 26\n",
            "0.28329953874335234\n",
            "************************\n",
            "epoch 27\n",
            "0.28321000886704106\n",
            "************************\n",
            "epoch 28\n",
            "0.28312183602979873\n",
            "************************\n",
            "epoch 29\n",
            "0.2830350018116238\n"
          ]
        },
        {
          "output_type": "display_data",
          "data": {
            "text/plain": [
              "<Figure size 432x288 with 1 Axes>"
            ],
            "image/png": "[encoded data removed]"
          },
          "metadata": {
            "needs_background": "light"
          }
        }
      ]
    },
    {
      "cell_type": "code",
      "source": [
        ""
      ],
      "metadata": {
        "id": "TmeIoN6OtEu1"
      },
      "execution_count": null,
      "outputs": []
    }
  ]
}